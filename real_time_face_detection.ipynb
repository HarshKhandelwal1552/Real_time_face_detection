{
 "cells": [
  {
   "cell_type": "code",
   "execution_count": null,
   "metadata": {},
   "outputs": [],
   "source": [
    "# importing required liberaries\n",
    "import requests\n",
    "import numpy as np\n",
    "import cv2"
   ]
  },
  {
   "cell_type": "code",
   "execution_count": null,
   "metadata": {},
   "outputs": [],
   "source": [
    "# we use the ip webcam for using mobile camera for displaing on our pc \n",
    "while True:\n",
    "    # getting the address for our mobile camera\n",
    "    image = requests.get(\"http://192.168.43.1:8080/shot.jpg\")\n",
    "    \n",
    "    # conveerting into numpy array\n",
    "    video = np.array(bytearray(image.content),dtype = np.uint8)\n",
    "    \n",
    "    # decoding our numpy array\n",
    "    render = cv2.imdecode(video,-1)\n",
    "    \n",
    "    #cv2.imshow('frame',render)\n",
    "    \n",
    "    # loading our haar cascade file \n",
    "    face_cascade = cv2.CascadeClassifier('haarcascade_frontalface_default.xml')\n",
    "    \n",
    "    # converting into gray scale from rgb\n",
    "    gray = cv2.cvtColor(render, cv2.COLOR_BGR2GRAY)\n",
    "    \n",
    "    # detecting faces\n",
    "    faces = face_cascade.detectMultiScale(gray, 1.3, 5)\n",
    "    \n",
    "    # making a rectangle box on the detected faces\n",
    "    for (x,y,w,h) in faces:\n",
    "        render = cv2.rectangle(render,(x,y),(x+w,y+h),(255,0,0),2)\n",
    "        roi_gray = gray[y:y+h, x:x+w]\n",
    "        roi_color = render[y:y+h, x:x+w]\n",
    "    \n",
    "    # displaying the video frame with detected faces\n",
    "    cv2.imshow('frame',render)\n",
    "    \n",
    "    # setting our terminating commands\n",
    "    if (cv2.waitKey(1) and 0xFF ==ord('q')):\n",
    "        break"
   ]
  },
  {
   "cell_type": "code",
   "execution_count": null,
   "metadata": {},
   "outputs": [],
   "source": []
  }
 ],
 "metadata": {
  "kernelspec": {
   "display_name": "gputest",
   "language": "python",
   "name": "gputest"
  },
  "language_info": {
   "codemirror_mode": {
    "name": "ipython",
    "version": 3
   },
   "file_extension": ".py",
   "mimetype": "text/x-python",
   "name": "python",
   "nbconvert_exporter": "python",
   "pygments_lexer": "ipython3",
   "version": "3.7.7"
  }
 },
 "nbformat": 4,
 "nbformat_minor": 4
}
